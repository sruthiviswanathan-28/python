{
  "nbformat": 4,
  "nbformat_minor": 0,
  "metadata": {
    "colab": {
      "name": "Untitled1.ipynb",
      "provenance": [],
      "authorship_tag": "ABX9TyN3sAj5wzG98HzhDHrVBT20",
      "include_colab_link": true
    },
    "kernelspec": {
      "name": "python3",
      "display_name": "Python 3"
    }
  },
  "cells": [
    {
      "cell_type": "markdown",
      "metadata": {
        "id": "view-in-github",
        "colab_type": "text"
      },
      "source": [
        "<a href=\"https://colab.research.google.com/github/sruthiviswanathan-28/python/blob/master/Untitled1.ipynb\" target=\"_parent\"><img src=\"https://colab.research.google.com/assets/colab-badge.svg\" alt=\"Open In Colab\"/></a>"
      ]
    },
    {
      "cell_type": "code",
      "metadata": {
        "id": "RRzZXpaJ-yIP"
      },
      "source": [
        "def delblankline(oldFile,newFile):\n",
        "  f1= open(oldFile,\"r\")\n",
        "  f2= open(newFile,\"w\")\n",
        "  while True:\n",
        "   text=f1.readline()\n",
        "   if next==\"\":\n",
        "    break\n",
        "   if text=='\\0':\n",
        "    continue\n",
        "   f2.write(text)\n",
        "  f1.close()\n",
        "  f2.close()\n",
        "  return\n"
      ],
      "execution_count": 4,
      "outputs": []
    }
  ]
}